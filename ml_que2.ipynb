{
 "cells": [
  {
   "cell_type": "code",
   "execution_count": 1,
   "metadata": {
    "ExecuteTime": {
     "end_time": "2021-03-05T16:12:04.113924Z",
     "start_time": "2021-03-05T16:11:49.775339Z"
    }
   },
   "outputs": [],
   "source": [
    "import numpy as np\n",
    "import pandas as pd\n",
    "from matplotlib import pyplot as plt"
   ]
  },
  {
   "cell_type": "code",
   "execution_count": 2,
   "metadata": {
    "ExecuteTime": {
     "end_time": "2021-03-05T16:12:56.497772Z",
     "start_time": "2021-03-05T16:12:44.744131Z"
    }
   },
   "outputs": [
    {
     "name": "stdout",
     "output_type": "stream",
     "text": [
      "Collecting pandas-ods-reader\n",
      "  Downloading pandas_ods_reader-0.0.7-py3-none-any.whl (7.1 kB)\n",
      "Requirement already satisfied: lxml in /Library/Frameworks/Python.framework/Versions/3.9/lib/python3.9/site-packages (from pandas-ods-reader) (4.6.1)\n",
      "Requirement already satisfied: pandas in /Library/Frameworks/Python.framework/Versions/3.9/lib/python3.9/site-packages (from pandas-ods-reader) (1.1.4)\n",
      "Collecting ezodf\n",
      "  Downloading ezodf-0.3.2.tar.gz (125 kB)\n",
      "\u001b[K     |████████████████████████████████| 125 kB 1.7 MB/s eta 0:00:01\n",
      "\u001b[?25hRequirement already satisfied: python-dateutil>=2.7.3 in /Library/Frameworks/Python.framework/Versions/3.9/lib/python3.9/site-packages (from pandas->pandas-ods-reader) (2.8.1)\n",
      "Requirement already satisfied: pytz>=2017.2 in /Library/Frameworks/Python.framework/Versions/3.9/lib/python3.9/site-packages (from pandas->pandas-ods-reader) (2020.4)\n",
      "Requirement already satisfied: numpy>=1.15.4 in /Library/Frameworks/Python.framework/Versions/3.9/lib/python3.9/site-packages (from pandas->pandas-ods-reader) (1.19.4)\n",
      "Requirement already satisfied: six>=1.5 in /Library/Frameworks/Python.framework/Versions/3.9/lib/python3.9/site-packages (from python-dateutil>=2.7.3->pandas->pandas-ods-reader) (1.15.0)\n",
      "Building wheels for collected packages: ezodf\n",
      "  Building wheel for ezodf (setup.py) ... \u001b[?25ldone\n",
      "\u001b[?25h  Created wheel for ezodf: filename=ezodf-0.3.2-py2.py3-none-any.whl size=49001 sha256=ec4c70a327508a83b35674e4a03c2402c974b4dffb19bd5d130a00979cc34ed1\n",
      "  Stored in directory: /Users/compindia/Library/Caches/pip/wheels/d0/0e/c2/1af349f0c9e110ed08133a3d579f402f3ec1c031eac80bc084\n",
      "Successfully built ezodf\n",
      "Installing collected packages: ezodf, pandas-ods-reader\n",
      "Successfully installed ezodf-0.3.2 pandas-ods-reader-0.0.7\n",
      "\u001b[33mWARNING: You are using pip version 20.3; however, version 21.0.1 is available.\n",
      "You should consider upgrading via the '/Library/Frameworks/Python.framework/Versions/3.9/bin/python3 -m pip install --upgrade pip' command.\u001b[0m\n"
     ]
    }
   ],
   "source": [
    "!python3 -m pip install pandas-ods-reader"
   ]
  },
  {
   "cell_type": "code",
   "execution_count": 13,
   "metadata": {
    "ExecuteTime": {
     "end_time": "2021-03-07T10:53:22.132097Z",
     "start_time": "2021-03-07T10:53:22.031687Z"
    }
   },
   "outputs": [
    {
     "data": {
      "text/html": [
       "<div>\n",
       "<style scoped>\n",
       "    .dataframe tbody tr th:only-of-type {\n",
       "        vertical-align: middle;\n",
       "    }\n",
       "\n",
       "    .dataframe tbody tr th {\n",
       "        vertical-align: top;\n",
       "    }\n",
       "\n",
       "    .dataframe thead th {\n",
       "        text-align: right;\n",
       "    }\n",
       "</style>\n",
       "<table border=\"1\" class=\"dataframe\">\n",
       "  <thead>\n",
       "    <tr style=\"text-align: right;\">\n",
       "      <th></th>\n",
       "      <th>Predicted Class</th>\n",
       "      <th>Actual Class</th>\n",
       "    </tr>\n",
       "  </thead>\n",
       "  <tbody>\n",
       "    <tr>\n",
       "      <th>0</th>\n",
       "      <td>0</td>\n",
       "      <td>0</td>\n",
       "    </tr>\n",
       "    <tr>\n",
       "      <th>1</th>\n",
       "      <td>0</td>\n",
       "      <td>0</td>\n",
       "    </tr>\n",
       "    <tr>\n",
       "      <th>2</th>\n",
       "      <td>1</td>\n",
       "      <td>0</td>\n",
       "    </tr>\n",
       "    <tr>\n",
       "      <th>3</th>\n",
       "      <td>0</td>\n",
       "      <td>0</td>\n",
       "    </tr>\n",
       "    <tr>\n",
       "      <th>4</th>\n",
       "      <td>0</td>\n",
       "      <td>0</td>\n",
       "    </tr>\n",
       "  </tbody>\n",
       "</table>\n",
       "</div>"
      ],
      "text/plain": [
       "   Predicted Class  Actual Class\n",
       "0                0             0\n",
       "1                0             0\n",
       "2                1             0\n",
       "3                0             0\n",
       "4                0             0"
      ]
     },
     "execution_count": 13,
     "metadata": {},
     "output_type": "execute_result"
    }
   ],
   "source": [
    "df = pd.read_csv('dataset.csv')\n",
    "df.head()"
   ]
  },
  {
   "cell_type": "code",
   "execution_count": 21,
   "metadata": {
    "ExecuteTime": {
     "end_time": "2021-03-07T10:58:47.770404Z",
     "start_time": "2021-03-07T10:58:47.751212Z"
    }
   },
   "outputs": [
    {
     "data": {
      "text/plain": [
       "(160, 2)"
      ]
     },
     "execution_count": 21,
     "metadata": {},
     "output_type": "execute_result"
    }
   ],
   "source": [
    "df.shape"
   ]
  },
  {
   "cell_type": "code",
   "execution_count": 16,
   "metadata": {
    "ExecuteTime": {
     "end_time": "2021-03-07T10:53:53.731327Z",
     "start_time": "2021-03-07T10:53:53.630153Z"
    }
   },
   "outputs": [
    {
     "data": {
      "text/plain": [
       "(1    45\n",
       " 2    39\n",
       " 0    39\n",
       " 3    37\n",
       " Name: Predicted Class, dtype: int64,\n",
       " 0    49\n",
       " 2    40\n",
       " 1    36\n",
       " 3    35\n",
       " Name: Actual Class, dtype: int64)"
      ]
     },
     "execution_count": 16,
     "metadata": {},
     "output_type": "execute_result"
    }
   ],
   "source": [
    "df['Predicted Class'].value_counts(),df['Actual Class'].value_counts()"
   ]
  },
  {
   "cell_type": "markdown",
   "metadata": {},
   "source": [
    "## 2.a Total Accuracy and Class wise Accuracy"
   ]
  },
  {
   "cell_type": "code",
   "execution_count": 24,
   "metadata": {
    "ExecuteTime": {
     "end_time": "2021-03-07T11:00:25.113302Z",
     "start_time": "2021-03-07T11:00:25.079745Z"
    }
   },
   "outputs": [
    {
     "data": {
      "text/plain": [
       "0.75625"
      ]
     },
     "execution_count": 24,
     "metadata": {},
     "output_type": "execute_result"
    }
   ],
   "source": [
    "# Total accuracy:\n",
    "total_no_of_rows = df.shape[0]\n",
    "true_positives = df[['Predicted Class']==df['Actual Class']]\n",
    "total_accuracy = len(true_positives)/total_no_of_rows\n",
    "total_accuracy"
   ]
  },
  {
   "cell_type": "code",
   "execution_count": 74,
   "metadata": {
    "ExecuteTime": {
     "end_time": "2021-03-07T12:25:04.672576Z",
     "start_time": "2021-03-07T12:25:04.597159Z"
    }
   },
   "outputs": [
    {
     "name": "stdout",
     "output_type": "stream",
     "text": [
      "Class wise Accuracy:  {0: 0.673469387755102, 1: 0.8888888888888888, 2: 0.725, 3: 0.7714285714285715}\n"
     ]
    }
   ],
   "source": [
    "# class 0 accuracy:\n",
    "true_positives={}\n",
    "class_accuracy={}\n",
    "num_classes =len(df['Predicted Class'].value_counts())\n",
    "\n",
    "for i in range(num_classes):\n",
    "    true_positives[str(i)+str(i)] = len(df[(df['Actual Class']==i)&(df['Predicted Class'] == i)])\n",
    "    class_accuracy[i] = true_positives[str(i)+str(i)]/len(df[df['Actual Class']==i])\n",
    "\n",
    "# true_positives,\n",
    "print('Class wise Accuracy: ', class_accuracy)"
   ]
  },
  {
   "cell_type": "code",
   "execution_count": 138,
   "metadata": {
    "ExecuteTime": {
     "end_time": "2021-03-07T13:56:08.424907Z",
     "start_time": "2021-03-07T13:56:08.172110Z"
    }
   },
   "outputs": [],
   "source": [
    "# Claculate False Negatives, False Positives and True Negatives\n",
    "\n",
    "false_negatives={}\n",
    "for i in range(num_classes):\n",
    "    for j in range(num_classes):\n",
    "        if i!=j:\n",
    "            false_negatives[str(j)+str(i)] = df[(df['Actual Class']==i)&(df['Predicted Class'] == j)]\n",
    "\n",
    "\n",
    "false_positives={}\n",
    "for i in range(num_classes):\n",
    "    for j in range(num_classes):\n",
    "        if i!=j:\n",
    "            false_positives[str(i)+str(j)] = df[(df['Actual Class']==j)&(df['Predicted Class'] == i)]\n",
    "        \n",
    "true_negatives = {}\n",
    "for i in range(num_classes):\n",
    "    for j in range(num_classes):\n",
    "        for k in range(num_classes):\n",
    "            if i!=j and i!=k:\n",
    "                true_negatives[str(i)+str(k)+str(j)] = df[(df['Actual Class']==k)&(df['Predicted Class'] == j)]\n"
   ]
  },
  {
   "cell_type": "markdown",
   "metadata": {},
   "source": [
    "## 2.b Confusion Matrix"
   ]
  },
  {
   "cell_type": "code",
   "execution_count": 139,
   "metadata": {
    "ExecuteTime": {
     "end_time": "2021-03-07T13:56:09.386216Z",
     "start_time": "2021-03-07T13:56:09.342808Z"
    }
   },
   "outputs": [
    {
     "data": {
      "text/html": [
       "<div>\n",
       "<style scoped>\n",
       "    .dataframe tbody tr th:only-of-type {\n",
       "        vertical-align: middle;\n",
       "    }\n",
       "\n",
       "    .dataframe tbody tr th {\n",
       "        vertical-align: top;\n",
       "    }\n",
       "\n",
       "    .dataframe thead th {\n",
       "        text-align: right;\n",
       "    }\n",
       "</style>\n",
       "<table border=\"1\" class=\"dataframe\">\n",
       "  <thead>\n",
       "    <tr style=\"text-align: right;\">\n",
       "      <th></th>\n",
       "      <th>actual_0</th>\n",
       "      <th>actual_1</th>\n",
       "      <th>actual_2</th>\n",
       "      <th>actual_3</th>\n",
       "    </tr>\n",
       "  </thead>\n",
       "  <tbody>\n",
       "    <tr>\n",
       "      <th>0</th>\n",
       "      <td>a</td>\n",
       "      <td>a</td>\n",
       "      <td>a</td>\n",
       "      <td>a</td>\n",
       "    </tr>\n",
       "    <tr>\n",
       "      <th>1</th>\n",
       "      <td>a</td>\n",
       "      <td>a</td>\n",
       "      <td>a</td>\n",
       "      <td>a</td>\n",
       "    </tr>\n",
       "    <tr>\n",
       "      <th>2</th>\n",
       "      <td>a</td>\n",
       "      <td>a</td>\n",
       "      <td>a</td>\n",
       "      <td>a</td>\n",
       "    </tr>\n",
       "    <tr>\n",
       "      <th>3</th>\n",
       "      <td>a</td>\n",
       "      <td>a</td>\n",
       "      <td>a</td>\n",
       "      <td>a</td>\n",
       "    </tr>\n",
       "  </tbody>\n",
       "</table>\n",
       "</div>"
      ],
      "text/plain": [
       "  actual_0 actual_1 actual_2 actual_3\n",
       "0        a        a        a        a\n",
       "1        a        a        a        a\n",
       "2        a        a        a        a\n",
       "3        a        a        a        a"
      ]
     },
     "execution_count": 139,
     "metadata": {},
     "output_type": "execute_result"
    }
   ],
   "source": [
    "# Claculate Confusion Matrix:\n",
    "cf = pd.DataFrame({'actual_0':[],'actual_1':[],'actual_2':[],'actual_3':[]})\n",
    "cf['actual_0']=['a','a','a','a']\n",
    "cf['actual_1']=['a','a','a','a']\n",
    "cf['actual_2']=['a','a','a','a']\n",
    "cf['actual_3']=['a','a','a','a']\n",
    "\n",
    "cf"
   ]
  },
  {
   "cell_type": "code",
   "execution_count": 142,
   "metadata": {
    "ExecuteTime": {
     "end_time": "2021-03-07T13:56:52.062107Z",
     "start_time": "2021-03-07T13:56:52.042630Z"
    }
   },
   "outputs": [
    {
     "name": "stdout",
     "output_type": "stream",
     "text": [
      "Confusion Matrix is: \n",
      "   actual_0 actual_1 actual_2 actual_3\n",
      "0       33        1        3        2\n",
      "1        8       32        2        3\n",
      "2        4        3       29        3\n",
      "3        4        0        6       27\n"
     ]
    }
   ],
   "source": [
    "for i in range(num_classes):\n",
    "    for j in range(num_classes):\n",
    "        if i == j:\n",
    "            cf['actual_'+str(i)][j] = true_positives[str(i)+str(j)]\n",
    "        if i!=j:\n",
    "            cf['actual_'+str(i)][j] = len(false_positives[str(j)+str(i)])\n",
    "print('Confusion Matrix is: \\n',cf)"
   ]
  },
  {
   "cell_type": "markdown",
   "metadata": {},
   "source": [
    "## 2.c Calculate Precision and Recall for all classes"
   ]
  },
  {
   "cell_type": "code",
   "execution_count": 143,
   "metadata": {
    "ExecuteTime": {
     "end_time": "2021-03-07T13:57:17.316158Z",
     "start_time": "2021-03-07T13:57:17.258352Z"
    }
   },
   "outputs": [
    {
     "data": {
      "text/plain": [
       "{'00': 33, '11': 32, '22': 29, '33': 27}"
      ]
     },
     "execution_count": 143,
     "metadata": {},
     "output_type": "execute_result"
    }
   ],
   "source": [
    "true_positives"
   ]
  },
  {
   "cell_type": "code",
   "execution_count": 144,
   "metadata": {
    "ExecuteTime": {
     "end_time": "2021-03-07T13:57:20.460342Z",
     "start_time": "2021-03-07T13:57:20.448083Z"
    }
   },
   "outputs": [
    {
     "data": {
      "text/plain": [
       "(1, 3, 2)"
      ]
     },
     "execution_count": 144,
     "metadata": {},
     "output_type": "execute_result"
    }
   ],
   "source": [
    "len(false_positives['01']),len(false_positives['02']),len(false_positives['03']),"
   ]
  },
  {
   "cell_type": "code",
   "execution_count": 145,
   "metadata": {
    "ExecuteTime": {
     "end_time": "2021-03-07T13:57:31.035649Z",
     "start_time": "2021-03-07T13:57:31.008781Z"
    }
   },
   "outputs": [
    {
     "name": "stdout",
     "output_type": "stream",
     "text": [
      "precision {'0': 0.8461538461538461, '1': 0.7111111111111111, '2': 0.7435897435897436, '3': 0.7297297297297297}\n"
     ]
    }
   ],
   "source": [
    "# Precision = TP/TP+FP\n",
    "precision={};fp={}\n",
    "for i in range(num_classes):\n",
    "    sum=0\n",
    "    for j in range(num_classes):\n",
    "        if i!=j:\n",
    "            sum += len(false_positives[str(i)+str(j)])\n",
    "    fp['fp_'+str(i)] = sum    \n",
    "    precision[str(i)] = true_positives[str(i)+str(i)]/(true_positives[str(i)+str(i)]+sum)\n",
    "print('precision',precision)"
   ]
  },
  {
   "cell_type": "code",
   "execution_count": 146,
   "metadata": {
    "ExecuteTime": {
     "end_time": "2021-03-07T13:57:42.208737Z",
     "start_time": "2021-03-07T13:57:42.175326Z"
    }
   },
   "outputs": [
    {
     "name": "stdout",
     "output_type": "stream",
     "text": [
      "recall {'0': 0.673469387755102, '1': 0.8888888888888888, '2': 0.725, '3': 0.7714285714285715}\n"
     ]
    }
   ],
   "source": [
    "# Recall = TP/TP+FN\n",
    "\n",
    "recall={};fn={}\n",
    "for i in range(num_classes):\n",
    "    sum=0\n",
    "    for j in range(num_classes):\n",
    "        if i!=j:\n",
    "            sum += len(false_negatives[str(j)+str(i)])\n",
    "    fn['fn_'+str(i)] = sum    \n",
    "    recall[str(i)] = true_positives[str(i)+str(i)]/(true_positives[str(i)+str(i)]+sum)\n",
    "print('recall',recall)"
   ]
  },
  {
   "cell_type": "code",
   "execution_count": 147,
   "metadata": {
    "ExecuteTime": {
     "end_time": "2021-03-07T13:57:50.591396Z",
     "start_time": "2021-03-07T13:57:50.577608Z"
    }
   },
   "outputs": [
    {
     "data": {
      "text/plain": [
       "({'fp_0': 6, 'fp_1': 13, 'fp_2': 10, 'fp_3': 10},\n",
       " {'fn_0': 16, 'fn_1': 4, 'fn_2': 11, 'fn_3': 8})"
      ]
     },
     "execution_count": 147,
     "metadata": {},
     "output_type": "execute_result"
    }
   ],
   "source": [
    "fp,fn"
   ]
  },
  {
   "cell_type": "code",
   "execution_count": 148,
   "metadata": {
    "ExecuteTime": {
     "end_time": "2021-03-07T13:57:55.655614Z",
     "start_time": "2021-03-07T13:57:55.630021Z"
    }
   },
   "outputs": [
    {
     "name": "stdout",
     "output_type": "stream",
     "text": [
      "micro_average_precision :  0.75625\n",
      "micro_average_recall :  0.75625\n",
      "macro_average_precision :  0.7576461076461076\n",
      "macro_average_recall :  0.7646967120181406\n"
     ]
    }
   ],
   "source": [
    "# Micro-average of precision=𝑇𝑃1+𝑇𝑃2/𝑇𝑃1+𝑇𝑃2+𝐹𝑃1+𝐹𝑃2=12+5012+50+9+23=65.96\n",
    "\n",
    "sum_tp = true_positives['00']+true_positives['11']+true_positives['22']+true_positives['33']\n",
    "sum_fp = fp['fp_0']+fp['fp_1']+fp['fp_2']+fp['fp_3']\n",
    "sum_fn = fn['fn_0']+fn['fn_1']+fn['fn_2']+fn['fn_3']\n",
    "\n",
    "micro_average_precision = sum_tp/(sum_tp+sum_fp)\n",
    "print('micro_average_precision : ',micro_average_precision)\n",
    "\n",
    "micro_average_recall = sum_tp/(sum_tp+sum_fn)\n",
    "print('micro_average_recall : ',micro_average_recall)\n",
    "\n",
    "\n",
    "macro_average_precision = (precision['0']+precision['1']+precision['2']+precision['3'])/4\n",
    "macro_average_recall = (recall['0']+recall['1']+recall['2']+recall['3'])/4\n",
    "\n",
    "print('macro_average_precision : ',macro_average_precision)\n",
    "print('macro_average_recall : ',macro_average_recall)"
   ]
  },
  {
   "cell_type": "markdown",
   "metadata": {},
   "source": [
    "## 2.d F1-Score"
   ]
  },
  {
   "cell_type": "code",
   "execution_count": 149,
   "metadata": {
    "ExecuteTime": {
     "end_time": "2021-03-07T13:58:03.033286Z",
     "start_time": "2021-03-07T13:58:03.000065Z"
    }
   },
   "outputs": [
    {
     "data": {
      "text/plain": [
       "{0: 0.7499999999999999,\n",
       " 1: 0.7901234567901234,\n",
       " 2: 0.7341772151898733,\n",
       " 3: 0.7499999999999999}"
      ]
     },
     "execution_count": 149,
     "metadata": {},
     "output_type": "execute_result"
    }
   ],
   "source": [
    "# F!-Score:   2/((1/precision)+(1/recall))\n",
    "\n",
    "f1_score={}\n",
    "for i in range(num_classes):\n",
    "    f1_score[i] = 2/((1/precision[str(i)])+(1/recall[str(i)]))\n",
    "f1_score"
   ]
  },
  {
   "cell_type": "markdown",
   "metadata": {},
   "source": [
    "## 2.e Type-1 and Type-2 Errors"
   ]
  },
  {
   "cell_type": "code",
   "execution_count": 150,
   "metadata": {
    "ExecuteTime": {
     "end_time": "2021-03-07T13:58:20.072658Z",
     "start_time": "2021-03-07T13:58:20.049917Z"
    }
   },
   "outputs": [
    {
     "data": {
      "text/plain": [
       "dict_keys(['011', '021', '031', '012', '022', '032', '013', '023', '033', '100', '120', '130', '102', '122', '132', '103', '123', '133', '200', '210', '230', '201', '211', '231', '203', '213', '233', '300', '310', '320', '301', '311', '321', '302', '312', '322'])"
      ]
     },
     "execution_count": 150,
     "metadata": {},
     "output_type": "execute_result"
    }
   ],
   "source": [
    "# Type-1: Fp/Fp+TN , Type-2: FN/FN+TP\n",
    "\n",
    "true_negatives.keys()"
   ]
  },
  {
   "cell_type": "code",
   "execution_count": 151,
   "metadata": {
    "ExecuteTime": {
     "end_time": "2021-03-07T13:58:21.195966Z",
     "start_time": "2021-03-07T13:58:21.150740Z"
    }
   },
   "outputs": [
    {
     "data": {
      "text/plain": [
       "{'0': 105, '1': 111, '2': 110, '3': 115}"
      ]
     },
     "execution_count": 151,
     "metadata": {},
     "output_type": "execute_result"
    }
   ],
   "source": [
    "tn_keys = {'0':['011', '021', '031', '012', '022', '032', '013', '023', '033'],\n",
    "           '1':['100', '120', '130', '102', '122', '132', '103', '123', '133'],\n",
    "           '2':['200', '210', '230', '201', '211', '231', '203', '213', '233'],\n",
    "           '3':['300', '310', '320', '301', '311', '321', '302', '312', '322']}\n",
    "tn_sum={}\n",
    "for i,j in tn_keys.items():\n",
    "    sum=0\n",
    "    for k in j:\n",
    "        sum+=len(true_negatives[k])\n",
    "    tn_sum[i]=sum\n",
    "tn_sum"
   ]
  },
  {
   "cell_type": "code",
   "execution_count": 152,
   "metadata": {
    "ExecuteTime": {
     "end_time": "2021-03-07T13:58:22.972700Z",
     "start_time": "2021-03-07T13:58:22.920619Z"
    }
   },
   "outputs": [
    {
     "data": {
      "text/plain": [
       "({'fn_0': 16, 'fn_1': 4, 'fn_2': 11, 'fn_3': 8},\n",
       " {'fp_0': 6, 'fp_1': 13, 'fp_2': 10, 'fp_3': 10})"
      ]
     },
     "execution_count": 152,
     "metadata": {},
     "output_type": "execute_result"
    }
   ],
   "source": [
    "fn,fp"
   ]
  },
  {
   "cell_type": "code",
   "execution_count": 154,
   "metadata": {
    "ExecuteTime": {
     "end_time": "2021-03-07T13:58:52.829151Z",
     "start_time": "2021-03-07T13:58:52.811438Z"
    }
   },
   "outputs": [
    {
     "name": "stdout",
     "output_type": "stream",
     "text": [
      "type-1 error: \n",
      " {0: 0.05405405405405406, 1: 0.10483870967741936, 2: 0.08333333333333333, 3: 0.08}\n",
      "\n",
      "type-2 error: \n",
      " {0: 0.32653061224489793, 1: 0.1111111111111111, 2: 0.275, 3: 0.22857142857142856}\n"
     ]
    }
   ],
   "source": [
    "type_1={}\n",
    "type_2={}\n",
    "for i in range(num_classes):\n",
    "    type_1[i] = fp['fp_'+str(i)]/(fp['fp_'+str(i)]+tn_sum[str(i)])\n",
    "for i in range(num_classes):\n",
    "    type_2[i] = fn['fn_'+str(i)]/(fn['fn_'+str(i)]+true_positives[str(i)+str(i)])\n",
    "print('type-1 error: \\n',type_1)\n",
    "print('\\ntype-2 error: \\n',type_2)"
   ]
  },
  {
   "cell_type": "code",
   "execution_count": 156,
   "metadata": {
    "ExecuteTime": {
     "end_time": "2021-03-07T14:01:08.883470Z",
     "start_time": "2021-03-07T14:01:08.759445Z"
    }
   },
   "outputs": [
    {
     "name": "stdout",
     "output_type": "stream",
     "text": [
      "Confusion Matrix\n",
      "\n",
      "[[33  1  3  2]\n",
      " [ 8 32  2  3]\n",
      " [ 4  3 29  3]\n",
      " [ 4  0  6 27]]\n",
      "\n",
      "Accuracy: 0.76\n",
      "\n",
      "Macro Precision: 0.76\n",
      "Macro Recall: 0.76\n",
      "Macro F1-score: 0.76\n",
      "\n",
      "Weighted Precision: 0.76\n",
      "Weighted Recall: 0.76\n",
      "Weighted F1-score: 0.76\n",
      "\n",
      "Classification Report\n",
      "\n",
      "              precision    recall  f1-score   support\n",
      "\n",
      "     Class 0       0.85      0.67      0.75        49\n",
      "     Class 1       0.71      0.89      0.79        36\n",
      "     Class 2       0.74      0.72      0.73        40\n",
      "     Class 3       0.73      0.77      0.75        35\n",
      "\n",
      "    accuracy                           0.76       160\n",
      "   macro avg       0.76      0.76      0.76       160\n",
      "weighted avg       0.76      0.76      0.76       160\n",
      "\n"
     ]
    }
   ],
   "source": [
    "y_test = df['Actual Class']\n",
    "y_pred = df['Predicted Class']\n",
    "\n",
    "\n",
    "#importing confusion matrix\n",
    "from sklearn.metrics import confusion_matrix\n",
    "confusion = confusion_matrix(y_pred,y_test)\n",
    "print('Confusion Matrix\\n')\n",
    "print(confusion)\n",
    "\n",
    "#importing accuracy_score, precision_score, recall_score, f1_score\n",
    "from sklearn.metrics import accuracy_score, precision_score, recall_score, f1_score\n",
    "print('\\nAccuracy: {:.2f}\\n'.format(accuracy_score(y_test, y_pred)))\n",
    "\n",
    "\n",
    "print('Macro Precision: {:.2f}'.format(precision_score(y_test, y_pred, average='macro')))\n",
    "print('Macro Recall: {:.2f}'.format(recall_score(y_test, y_pred, average='macro')))\n",
    "print('Macro F1-score: {:.2f}\\n'.format(f1_score(y_test, y_pred, average='macro')))\n",
    "\n",
    "print('Weighted Precision: {:.2f}'.format(precision_score(y_test, y_pred, average='weighted')))\n",
    "print('Weighted Recall: {:.2f}'.format(recall_score(y_test, y_pred, average='weighted')))\n",
    "print('Weighted F1-score: {:.2f}'.format(f1_score(y_test, y_pred, average='weighted')))\n",
    "\n",
    "from sklearn.metrics import classification_report\n",
    "print('\\nClassification Report\\n')\n",
    "print(classification_report(y_test, y_pred, target_names=['Class 0','Class 1', 'Class 2', 'Class 3']))"
   ]
  },
  {
   "cell_type": "code",
   "execution_count": 157,
   "metadata": {
    "ExecuteTime": {
     "end_time": "2021-03-07T14:04:16.093084Z",
     "start_time": "2021-03-07T14:04:15.664022Z"
    }
   },
   "outputs": [
    {
     "ename": "ValueError",
     "evalue": "y_true and y_pred contain different number of classes 4, 2. Please provide the true labels explicitly through the labels argument. Classes found in y_true: [0 1 2 3]",
     "output_type": "error",
     "traceback": [
      "\u001b[0;31m---------------------------------------------------------------------------\u001b[0m",
      "\u001b[0;31mValueError\u001b[0m                                Traceback (most recent call last)",
      "\u001b[0;32m<ipython-input-157-1d3b072d8e36>\u001b[0m in \u001b[0;36m<module>\u001b[0;34m\u001b[0m\n\u001b[1;32m      1\u001b[0m \u001b[0;32mfrom\u001b[0m \u001b[0msklearn\u001b[0m\u001b[0;34m.\u001b[0m\u001b[0mmetrics\u001b[0m \u001b[0;32mimport\u001b[0m \u001b[0mlog_loss\u001b[0m\u001b[0;34m\u001b[0m\u001b[0;34m\u001b[0m\u001b[0m\n\u001b[0;32m----> 2\u001b[0;31m \u001b[0maccuracy\u001b[0m \u001b[0;34m=\u001b[0m \u001b[0mlog_loss\u001b[0m\u001b[0;34m(\u001b[0m\u001b[0my_test\u001b[0m\u001b[0;34m,\u001b[0m \u001b[0my_pred\u001b[0m\u001b[0;34m)\u001b[0m\u001b[0;34m\u001b[0m\u001b[0;34m\u001b[0m\u001b[0m\n\u001b[0m",
      "\u001b[0;32m/Library/Frameworks/Python.framework/Versions/3.9/lib/python3.9/site-packages/sklearn/utils/validation.py\u001b[0m in \u001b[0;36minner_f\u001b[0;34m(*args, **kwargs)\u001b[0m\n\u001b[1;32m     70\u001b[0m                           FutureWarning)\n\u001b[1;32m     71\u001b[0m         \u001b[0mkwargs\u001b[0m\u001b[0;34m.\u001b[0m\u001b[0mupdate\u001b[0m\u001b[0;34m(\u001b[0m\u001b[0;34m{\u001b[0m\u001b[0mk\u001b[0m\u001b[0;34m:\u001b[0m \u001b[0marg\u001b[0m \u001b[0;32mfor\u001b[0m \u001b[0mk\u001b[0m\u001b[0;34m,\u001b[0m \u001b[0marg\u001b[0m \u001b[0;32min\u001b[0m \u001b[0mzip\u001b[0m\u001b[0;34m(\u001b[0m\u001b[0msig\u001b[0m\u001b[0;34m.\u001b[0m\u001b[0mparameters\u001b[0m\u001b[0;34m,\u001b[0m \u001b[0margs\u001b[0m\u001b[0;34m)\u001b[0m\u001b[0;34m}\u001b[0m\u001b[0;34m)\u001b[0m\u001b[0;34m\u001b[0m\u001b[0;34m\u001b[0m\u001b[0m\n\u001b[0;32m---> 72\u001b[0;31m         \u001b[0;32mreturn\u001b[0m \u001b[0mf\u001b[0m\u001b[0;34m(\u001b[0m\u001b[0;34m**\u001b[0m\u001b[0mkwargs\u001b[0m\u001b[0;34m)\u001b[0m\u001b[0;34m\u001b[0m\u001b[0;34m\u001b[0m\u001b[0m\n\u001b[0m\u001b[1;32m     73\u001b[0m     \u001b[0;32mreturn\u001b[0m \u001b[0minner_f\u001b[0m\u001b[0;34m\u001b[0m\u001b[0;34m\u001b[0m\u001b[0m\n\u001b[1;32m     74\u001b[0m \u001b[0;34m\u001b[0m\u001b[0m\n",
      "\u001b[0;32m/Library/Frameworks/Python.framework/Versions/3.9/lib/python3.9/site-packages/sklearn/metrics/_classification.py\u001b[0m in \u001b[0;36mlog_loss\u001b[0;34m(y_true, y_pred, eps, normalize, sample_weight, labels)\u001b[0m\n\u001b[1;32m   2224\u001b[0m     \u001b[0;32mif\u001b[0m \u001b[0mlen\u001b[0m\u001b[0;34m(\u001b[0m\u001b[0mlb\u001b[0m\u001b[0;34m.\u001b[0m\u001b[0mclasses_\u001b[0m\u001b[0;34m)\u001b[0m \u001b[0;34m!=\u001b[0m \u001b[0my_pred\u001b[0m\u001b[0;34m.\u001b[0m\u001b[0mshape\u001b[0m\u001b[0;34m[\u001b[0m\u001b[0;36m1\u001b[0m\u001b[0;34m]\u001b[0m\u001b[0;34m:\u001b[0m\u001b[0;34m\u001b[0m\u001b[0;34m\u001b[0m\u001b[0m\n\u001b[1;32m   2225\u001b[0m         \u001b[0;32mif\u001b[0m \u001b[0mlabels\u001b[0m \u001b[0;32mis\u001b[0m \u001b[0;32mNone\u001b[0m\u001b[0;34m:\u001b[0m\u001b[0;34m\u001b[0m\u001b[0;34m\u001b[0m\u001b[0m\n\u001b[0;32m-> 2226\u001b[0;31m             raise ValueError(\"y_true and y_pred contain different number of \"\n\u001b[0m\u001b[1;32m   2227\u001b[0m                              \u001b[0;34m\"classes {0}, {1}. Please provide the true \"\u001b[0m\u001b[0;34m\u001b[0m\u001b[0;34m\u001b[0m\u001b[0m\n\u001b[1;32m   2228\u001b[0m                              \u001b[0;34m\"labels explicitly through the labels argument. \"\u001b[0m\u001b[0;34m\u001b[0m\u001b[0;34m\u001b[0m\u001b[0m\n",
      "\u001b[0;31mValueError\u001b[0m: y_true and y_pred contain different number of classes 4, 2. Please provide the true labels explicitly through the labels argument. Classes found in y_true: [0 1 2 3]"
     ]
    }
   ],
   "source": [
    "from sklearn.metrics import log_loss\n",
    "accuracy = log_loss(y_test, y_pred)"
   ]
  },
  {
   "cell_type": "code",
   "execution_count": null,
   "metadata": {},
   "outputs": [],
   "source": []
  }
 ],
 "metadata": {
  "kernelspec": {
   "display_name": "Python 3",
   "language": "python",
   "name": "python3"
  },
  "language_info": {
   "codemirror_mode": {
    "name": "ipython",
    "version": 3
   },
   "file_extension": ".py",
   "mimetype": "text/x-python",
   "name": "python",
   "nbconvert_exporter": "python",
   "pygments_lexer": "ipython3",
   "version": "3.9.0"
  },
  "toc": {
   "base_numbering": 1,
   "nav_menu": {},
   "number_sections": true,
   "sideBar": true,
   "skip_h1_title": false,
   "title_cell": "Table of Contents",
   "title_sidebar": "Contents",
   "toc_cell": false,
   "toc_position": {},
   "toc_section_display": true,
   "toc_window_display": false
  }
 },
 "nbformat": 4,
 "nbformat_minor": 4
}
